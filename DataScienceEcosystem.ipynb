{
 "cells": [
  {
   "cell_type": "markdown",
   "id": "ae53b9ed-bb06-402f-b8f7-797efb3e7acb",
   "metadata": {
    "tags": []
   },
   "source": [
    "# Data Science Tools and Ecosystem\n",
    "### In this notebook, Data Science Tools and Ecosystem are summarized.\n",
    "\n",
    "\n"
   ]
  },
  {
   "cell_type": "markdown",
   "id": "b75d2eec",
   "metadata": {},
   "source": [
    "# **Objectives**:\n",
    "\n",
    "* libraries names knowledge\n",
    "* basics of markdown\n",
    "* tables "
   ]
  },
  {
   "cell_type": "markdown",
   "id": "581d919b",
   "metadata": {},
   "source": [
    "### Some of the commonly used libraries used by Data Scientists include:\n",
    "1. Python\n",
    "2. C\n",
    "3. Java"
   ]
  },
  {
   "cell_type": "markdown",
   "id": "8f8b4e5d-3443-42d7-8d33-af53387d43f5",
   "metadata": {},
   "source": [
    "### Some of the commonly used libraries used by Data Scientists include:\n",
    "1. Pytorch\n",
    "2. Matplotlib\n",
    "3. Pandas"
   ]
  },
  {
   "cell_type": "markdown",
   "id": "c41abe3c-42a9-4d0e-a003-1bd5636ccc47",
   "metadata": {},
   "source": [
    "| Data Science Tools       |\n",
    "|--------------------------|\n",
    "| Vscode                   |\n",
    "| Pycharm                   |\n",
    "| Conda                   |\n"
   ]
  },
  {
   "cell_type": "code",
   "execution_count": null,
   "id": "7a8bd88b-2676-419c-851e-1d19eb7a1575",
   "metadata": {
    "tags": []
   },
   "outputs": [],
   "source": [
    "### Below are a few examples of evaluating arithmetic expressions in Python.\n"
   ]
  },
  {
   "cell_type": "code",
   "execution_count": 3,
   "id": "b6e35ce0-2fc9-4c95-a498-878b456c477b",
   "metadata": {
    "tags": []
   },
   "outputs": [
    {
     "data": {
      "text/plain": [
       "4"
      ]
     },
     "execution_count": 3,
     "metadata": {},
     "output_type": "execute_result"
    }
   ],
   "source": [
    "2+2"
   ]
  },
  {
   "cell_type": "code",
   "execution_count": 2,
   "id": "d45cedf4-6683-44ba-a8f3-0a95748de4b3",
   "metadata": {
    "tags": []
   },
   "outputs": [
    {
     "data": {
      "text/plain": [
       "2"
      ]
     },
     "execution_count": 2,
     "metadata": {},
     "output_type": "execute_result"
    }
   ],
   "source": [
    "3-1"
   ]
  },
  {
   "cell_type": "code",
   "execution_count": 6,
   "id": "fd4505a0-ad26-4b56-9efd-cc37e49de291",
   "metadata": {
    "tags": []
   },
   "outputs": [
    {
     "data": {
      "text/plain": [
       "17"
      ]
     },
     "execution_count": 6,
     "metadata": {},
     "output_type": "execute_result"
    }
   ],
   "source": [
    "(3*4)+5 #This a simple arithmetic expression to mutiply then add integers"
   ]
  },
  {
   "cell_type": "code",
   "execution_count": null,
   "id": "b2f664bc-3dc4-4a15-97aa-316a86899381",
   "metadata": {
    "tags": []
   },
   "outputs": [],
   "source": [
    "#This will convert 200 minutes to hours by diving by 60\n",
    "def convert_minutes_into_hours(minutes):\n",
    "    hours1 = minutes//60\n",
    "    hours2 = minutes%60\n",
    "    print(f'{hours1}:{hours2}')\n",
    "convert_minutes_into_hours(200)"
   ]
  },
  {
   "cell_type": "code",
   "execution_count": null,
   "id": "db3c46d2",
   "metadata": {},
   "outputs": [],
   "source": []
  },
  {
   "cell_type": "markdown",
   "id": "e1854b7d-0217-4d90-ba54-c7d49478097d",
   "metadata": {},
   "source": [
    "## Author \n",
    "Daniel Briquez"
   ]
  }
 ],
 "metadata": {
  "kernelspec": {
   "display_name": "Python",
   "language": "python",
   "name": "conda-env-python-py"
  },
  "language_info": {
   "codemirror_mode": {
    "name": "ipython",
    "version": 3
   },
   "file_extension": ".py",
   "mimetype": "text/x-python",
   "name": "python",
   "nbconvert_exporter": "python",
   "pygments_lexer": "ipython3",
   "version": "3.7.12"
  }
 },
 "nbformat": 4,
 "nbformat_minor": 5
}
